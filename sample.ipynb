{
  "nbformat": 4,
  "nbformat_minor": 0,
  "metadata": {
    "colab": {
      "provenance": [],
      "authorship_tag": "ABX9TyOqkpkFZc7cldmc6zv7P5ip",
      "include_colab_link": true
    },
    "kernelspec": {
      "name": "python3",
      "display_name": "Python 3"
    },
    "language_info": {
      "name": "python"
    }
  },
  "cells": [
    {
      "cell_type": "markdown",
      "metadata": {
        "id": "view-in-github",
        "colab_type": "text"
      },
      "source": [
        "<a href=\"https://colab.research.google.com/github/Afifakhan23/sample/blob/main/sample.ipynb\" target=\"_parent\"><img src=\"https://colab.research.google.com/assets/colab-badge.svg\" alt=\"Open In Colab\"/></a>"
      ]
    },
    {
      "cell_type": "code",
      "source": [
        "list=[1,2,3,4]\n",
        "l=list[3::-2]\n",
        "print(l)"
      ],
      "metadata": {
        "colab": {
          "base_uri": "https://localhost:8080/"
        },
        "id": "Q3-dKNHE3ASi",
        "outputId": "88c0148f-a141-4900-b4e5-46a0911d8602"
      },
      "execution_count": null,
      "outputs": [
        {
          "output_type": "stream",
          "name": "stdout",
          "text": [
            "[4, 2]\n"
          ]
        }
      ]
    },
    {
      "cell_type": "code",
      "source": [
        "my_string: str = 'Hello! World'\n",
        "\n",
        "# split into a list of words\n",
        "words: str = my_string.split()\n",
        "print(words)\n",
        "\n",
        "words = my_string.split(\" \") # Space as a delimiter\n",
        "print(words)\n",
        "\n",
        "words = my_string.split(\"l\") # Splitting using 'l' as the delimiter\n",
        "print(words)"
      ],
      "metadata": {
        "colab": {
          "base_uri": "https://localhost:8080/"
        },
        "id": "yAPgOJyrXOph",
        "outputId": "67c0b8e2-c63a-4017-f41e-fbfe5a8434ad"
      },
      "execution_count": null,
      "outputs": [
        {
          "output_type": "stream",
          "name": "stdout",
          "text": [
            "['Hello!', 'World']\n",
            "['Hello!', 'World']\n",
            "['He', '', 'o! Wor', 'd']\n"
          ]
        }
      ]
    }
  ]
}